{
 "cells": [
  {
   "cell_type": "code",
   "execution_count": 1,
   "id": "4d7c296b",
   "metadata": {},
   "outputs": [
    {
     "ename": "SyntaxError",
     "evalue": "invalid syntax (3401162903.py, line 1)",
     "output_type": "error",
     "traceback": [
      "\u001b[1;36m  Input \u001b[1;32mIn [1]\u001b[1;36m\u001b[0m\n\u001b[1;33m    pip install -U scikit-learn\u001b[0m\n\u001b[1;37m        ^\u001b[0m\n\u001b[1;31mSyntaxError\u001b[0m\u001b[1;31m:\u001b[0m invalid syntax\n"
     ]
    }
   ],
   "source": []
  },
  {
   "cell_type": "code",
   "execution_count": 2,
   "id": "cc6539e2",
   "metadata": {},
   "outputs": [],
   "source": [
    "\n",
    "import pandas as pd\n",
    "from sklearn import svm\n",
    "from sklearn.model_selection import train_test_split\n",
    "import joblib"
   ]
  },
  {
   "cell_type": "code",
   "execution_count": 3,
   "id": "bbfd4b92",
   "metadata": {},
   "outputs": [
    {
     "data": {
      "text/html": [
       "<div>\n",
       "<style scoped>\n",
       "    .dataframe tbody tr th:only-of-type {\n",
       "        vertical-align: middle;\n",
       "    }\n",
       "\n",
       "    .dataframe tbody tr th {\n",
       "        vertical-align: top;\n",
       "    }\n",
       "\n",
       "    .dataframe thead th {\n",
       "        text-align: right;\n",
       "    }\n",
       "</style>\n",
       "<table border=\"1\" class=\"dataframe\">\n",
       "  <thead>\n",
       "    <tr style=\"text-align: right;\">\n",
       "      <th></th>\n",
       "      <th>sepal_length</th>\n",
       "      <th>sepal_width</th>\n",
       "      <th>peta_length</th>\n",
       "      <th>petal_width</th>\n",
       "      <th>variety</th>\n",
       "    </tr>\n",
       "  </thead>\n",
       "  <tbody>\n",
       "    <tr>\n",
       "      <th>0</th>\n",
       "      <td>5.1</td>\n",
       "      <td>3.5</td>\n",
       "      <td>1.4</td>\n",
       "      <td>0.2</td>\n",
       "      <td>Setosa</td>\n",
       "    </tr>\n",
       "    <tr>\n",
       "      <th>1</th>\n",
       "      <td>4.9</td>\n",
       "      <td>3.0</td>\n",
       "      <td>1.4</td>\n",
       "      <td>0.2</td>\n",
       "      <td>Setosa</td>\n",
       "    </tr>\n",
       "    <tr>\n",
       "      <th>2</th>\n",
       "      <td>4.7</td>\n",
       "      <td>3.2</td>\n",
       "      <td>1.3</td>\n",
       "      <td>0.2</td>\n",
       "      <td>Setosa</td>\n",
       "    </tr>\n",
       "    <tr>\n",
       "      <th>3</th>\n",
       "      <td>4.6</td>\n",
       "      <td>3.1</td>\n",
       "      <td>1.5</td>\n",
       "      <td>0.2</td>\n",
       "      <td>Setosa</td>\n",
       "    </tr>\n",
       "    <tr>\n",
       "      <th>4</th>\n",
       "      <td>5.0</td>\n",
       "      <td>3.6</td>\n",
       "      <td>1.4</td>\n",
       "      <td>0.2</td>\n",
       "      <td>Setosa</td>\n",
       "    </tr>\n",
       "  </tbody>\n",
       "</table>\n",
       "</div>"
      ],
      "text/plain": [
       "   sepal_length  sepal_width  peta_length  petal_width variety\n",
       "0           5.1          3.5          1.4          0.2  Setosa\n",
       "1           4.9          3.0          1.4          0.2  Setosa\n",
       "2           4.7          3.2          1.3          0.2  Setosa\n",
       "3           4.6          3.1          1.5          0.2  Setosa\n",
       "4           5.0          3.6          1.4          0.2  Setosa"
      ]
     },
     "execution_count": 3,
     "metadata": {},
     "output_type": "execute_result"
    }
   ],
   "source": [
    "# read iris dataset\n",
    "iris = pd.read_csv(\"./Data sets/iris.csv\") \n",
    "iris.head()"
   ]
  },
  {
   "cell_type": "code",
   "execution_count": 4,
   "id": "3d309f98",
   "metadata": {},
   "outputs": [],
   "source": [
    "X, y = iris.drop(columns=\"variety\"), iris[\"variety\"]"
   ]
  },
  {
   "cell_type": "code",
   "execution_count": 5,
   "id": "38f78e2c",
   "metadata": {},
   "outputs": [
    {
     "name": "stdout",
     "output_type": "stream",
     "text": [
      "(150, 4)\n",
      "(150,)\n",
      "   sepal_length  sepal_width  peta_length  petal_width\n",
      "0           5.1          3.5          1.4          0.2\n",
      "1           4.9          3.0          1.4          0.2\n",
      "2           4.7          3.2          1.3          0.2\n",
      "3           4.6          3.1          1.5          0.2\n",
      "4           5.0          3.6          1.4          0.2\n",
      "0    Setosa\n",
      "1    Setosa\n",
      "2    Setosa\n",
      "3    Setosa\n",
      "4    Setosa\n",
      "Name: variety, dtype: object\n"
     ]
    }
   ],
   "source": [
    "print(X.shape)\n",
    "print(y.shape)\n",
    "print(X.head())\n",
    "print(y.head())"
   ]
  },
  {
   "cell_type": "code",
   "execution_count": 6,
   "id": "361d3611",
   "metadata": {},
   "outputs": [
    {
     "name": "stdout",
     "output_type": "stream",
     "text": [
      "Training Accuracy:  0.9210526315789473\n",
      "Prediction results:  [[0.01027004 0.00357164 0.98615832]\n",
      " [0.01096013 0.74064052 0.24839935]\n",
      " [0.93219505 0.05066528 0.01713967]\n",
      " [0.01454415 0.97792043 0.00753543]\n",
      " [0.01364533 0.39497406 0.59138061]\n",
      " [0.01243618 0.97246833 0.0150955 ]\n",
      " [0.01175372 0.75338206 0.23486423]\n",
      " [0.01209312 0.30559722 0.68230966]\n",
      " [0.00971803 0.96115919 0.02912279]\n",
      " [0.00897604 0.00411147 0.98691248]\n",
      " [0.13063759 0.84441985 0.02494256]\n",
      " [0.01568774 0.96673297 0.01757929]\n",
      " [0.01012658 0.84245652 0.1474169 ]\n",
      " [0.00772109 0.00207057 0.99020834]\n",
      " [0.01140578 0.39737405 0.59122018]\n",
      " [0.95204994 0.03496748 0.01298258]\n",
      " [0.00832155 0.00472748 0.98695098]\n",
      " [0.01030079 0.01232627 0.97737294]\n",
      " [0.95870164 0.02575433 0.01554403]\n",
      " [0.01142607 0.97248549 0.01608845]\n",
      " [0.95864456 0.02934172 0.01201372]\n",
      " [0.00822211 0.86230952 0.12946837]\n",
      " [0.97387621 0.01631122 0.00981257]\n",
      " [0.00885205 0.86601062 0.12513732]\n",
      " [0.95563954 0.03172352 0.01263694]\n",
      " [0.00970038 0.76322246 0.22707715]\n",
      " [0.96350428 0.02511066 0.01138507]\n",
      " [0.01070183 0.04819611 0.94110206]\n",
      " [0.96024172 0.02765537 0.01210291]\n",
      " [0.01288528 0.35589006 0.63122466]\n",
      " [0.96115334 0.02638436 0.0124623 ]\n",
      " [0.9740868  0.01626312 0.00965008]\n",
      " [0.96138955 0.02702221 0.01158824]\n",
      " [0.9717625  0.01802869 0.0102088 ]\n",
      " [0.0099987  0.02181629 0.96818501]\n",
      " [0.0089821  0.00374511 0.98727279]\n",
      " [0.01015937 0.00731803 0.9825226 ]\n",
      " [0.00900445 0.9122625  0.07873305]]\n"
     ]
    }
   ],
   "source": [
    "X_train, X_test, y_train, y_test = train_test_split(X,y,test_size=0.25)\n",
    "# fit model\n",
    "clf = svm.SVC(\n",
    "    C=1.0,\n",
    "    probability=True, \n",
    "    random_state=1)\n",
    "clf.fit(X_train, y_train)\n",
    "print('Training Accuracy: ', clf.score(X_test, y_test))\n",
    "print('Prediction results: ', clf.predict_proba(X_test))"
   ]
  },
  {
   "cell_type": "code",
   "execution_count": 8,
   "id": "16561134",
   "metadata": {},
   "outputs": [
    {
     "data": {
      "text/plain": [
       "['./Models/iris_model_1.pkl']"
      ]
     },
     "execution_count": 8,
     "metadata": {},
     "output_type": "execute_result"
    }
   ],
   "source": [
    "version = 1\n",
    "joblib.dump(clf, './Models/iris_model_{version}.pkl'.format(version=version))"
   ]
  }
 ],
 "metadata": {
  "kernelspec": {
   "display_name": "Python 3 (ipykernel)",
   "language": "python",
   "name": "python3"
  },
  "language_info": {
   "codemirror_mode": {
    "name": "ipython",
    "version": 3
   },
   "file_extension": ".py",
   "mimetype": "text/x-python",
   "name": "python",
   "nbconvert_exporter": "python",
   "pygments_lexer": "ipython3",
   "version": "3.9.10"
  }
 },
 "nbformat": 4,
 "nbformat_minor": 5
}
